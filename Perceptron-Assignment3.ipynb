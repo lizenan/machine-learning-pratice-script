{
 "cells": [
  {
   "cell_type": "code",
   "execution_count": 1,
   "metadata": {
    "collapsed": true
   },
   "outputs": [],
   "source": [
    "import numpy as np"
   ]
  },
  {
   "cell_type": "markdown",
   "metadata": {},
   "source": [
    "```\n",
    "x1 -----\\\n",
    "         \\\n",
    "          \\\n",
    "          \n",
    "          sig(w1 * x1 + w2 * x2 + b) ---- O (L)\n",
    "          /\n",
    "         /\n",
    "x2 -----/        \n",
    "```\n",
    "\n",
    "here `O` is the output of the perceptron and `L` is the loss."
   ]
  },
  {
   "cell_type": "markdown",
   "metadata": {},
   "source": [
    "## Ref: Sigmoid Gradient\n",
    "$$\\sigma(x) = \\frac{1}{1+e^{-x}}$$"
   ]
  },
  {
   "cell_type": "markdown",
   "metadata": {},
   "source": [
    "$$\\frac{\\delta \\sigma(x)}{\\delta x} = \\sigma(x)(1 - \\sigma(x))$$"
   ]
  },
  {
   "cell_type": "markdown",
   "metadata": {},
   "source": [
    "NOTE: Other gradients can be easily calculated"
   ]
  },
  {
   "cell_type": "markdown",
   "metadata": {},
   "source": [
    "---\n",
    "# Generic class definitions for various operators/nodes"
   ]
  },
  {
   "cell_type": "code",
   "execution_count": 2,
   "metadata": {
    "collapsed": true
   },
   "outputs": [],
   "source": [
    "class Node(object):\n",
    "    \"\"\"\n",
    "    Base object for all inputs and outputs.\n",
    "    \"\"\"\n",
    "    def __init__(self, value, grad):\n",
    "        self.value = value\n",
    "        self.gradient = grad"
   ]
  },
  {
   "cell_type": "code",
   "execution_count": 3,
   "metadata": {
    "collapsed": true
   },
   "outputs": [],
   "source": [
    "class MultiplyNode(object):\n",
    "    \"\"\"\n",
    "    Multiplies two inputs\n",
    "    \"\"\"\n",
    "    def forward(self, x1, x2):\n",
    "        self.x1 = x1\n",
    "        self.x2 = x2\n",
    "        self.output = Node(self.x1.value * self.x2.value, 0)\n",
    "        return self.output\n",
    "    \n",
    "    def backward(self):\n",
    "        self.x1.gradient = self.x2.value * self.output.gradient\n",
    "        self.x2.gradient = self.x1.value * self.output.gradient"
   ]
  },
  {
   "cell_type": "code",
   "execution_count": 4,
   "metadata": {
    "collapsed": true
   },
   "outputs": [],
   "source": [
    "class AddNode(object):    \n",
    "    \"\"\"\n",
    "    Adds two inputs x1 and x2.\n",
    "    \"\"\"\n",
    "    def forward(self, x1, x2):\n",
    "        self.x1 = x1\n",
    "        self.x2 = x2\n",
    "        self.output = Node(self.x1.value + self.x2.value, 0)\n",
    "        return self.output\n",
    "    \n",
    "    def backward(self):\n",
    "        self.x1.gradient = 1 * self.output.gradient\n",
    "        self.x2.gradient = 1 * self.output.gradient"
   ]
  },
  {
   "cell_type": "code",
   "execution_count": 5,
   "metadata": {
    "collapsed": true
   },
   "outputs": [],
   "source": [
    "class SigmoidNode(object):\n",
    "    \"\"\"\n",
    "    Adds a sigmoid non-linearity to a single input\n",
    "    \"\"\"\n",
    "    def forward(self, x):\n",
    "        self.x = x\n",
    "        self.output = Node(1/(1 + np.exp(-1 * self.x.value)), 0.0)\n",
    "        return self.output\n",
    "        \n",
    "    def backward(self):\n",
    "        s = 1/(1 + np.exp(-1 * self.x.value))\n",
    "        self.x.gradient = (s * (1 - s)) * self.output.gradient"
   ]
  },
  {
   "cell_type": "markdown",
   "metadata": {},
   "source": [
    "---\n",
    "# Defining the computational graph for a Perceptron"
   ]
  },
  {
   "cell_type": "code",
   "execution_count": 6,
   "metadata": {
    "collapsed": true
   },
   "outputs": [],
   "source": [
    "def forward_nn():\n",
    "    # w1 * x1\n",
    "    w1x1 = w1_mul_x1.forward(w1, x1)\n",
    "    # w2 * x2\n",
    "    w2x2 = w2_mul_x2.forward(w2, x2)\n",
    "    # w1*x1 + w2*x2\n",
    "    w1x1_w2x2 = w1x1_add_w2x2.forward(w1x1, w2x2)\n",
    "    # w1*x1 + w2*x2 + b\n",
    "    w1x1_w2x2_b = w1x1w2x2_add_b.forward(w1x1_w2x2, b)\n",
    "    # sigmoid(w1*x1 + w2*x2 + b)\n",
    "    output = sigmoid_out.forward(w1x1_w2x2_b)\n",
    "    return output\n",
    "\n",
    "def backward_nn():\n",
    "    sigmoid_out.backward()\n",
    "    w1x1w2x2_add_b.backward()\n",
    "    w1x1_add_w2x2.backward()\n",
    "    w2_mul_x2.backward()\n",
    "    w1_mul_x1.backward()"
   ]
  },
  {
   "cell_type": "markdown",
   "metadata": {},
   "source": [
    "### Validation"
   ]
  },
  {
   "cell_type": "code",
   "execution_count": 8,
   "metadata": {
    "collapsed": true
   },
   "outputs": [],
   "source": [
    "# Initialize Weights and Bias\n",
    "w1 = Node(0.1, 0.0)\n",
    "w2 = Node(0.4, 0.0)\n",
    "b = Node(-0.02, 0.0)\n",
    "\n",
    "# Input/Target Output\n",
    "alpha = 0.001\n",
    "x1 = Node(0.3, 0.0)\n",
    "x2 = Node(1.0, 0.0)\n",
    "y = 0.475\n",
    "\n",
    "# Create Nodes\n",
    "w1_mul_x1 = MultiplyNode()\n",
    "w2_mul_x2 = MultiplyNode()\n",
    "w1x1_add_w2x2 = AddNode()\n",
    "w1x1w2x2_add_b = AddNode()\n",
    "sigmoid_out = SigmoidNode()"
   ]
  },
  {
   "cell_type": "code",
   "execution_count": 9,
   "metadata": {},
   "outputs": [
    {
     "data": {
      "text/plain": [
       "0.47500000000065534"
      ]
     },
     "execution_count": 9,
     "metadata": {},
     "output_type": "execute_result"
    }
   ],
   "source": [
    "for i in range(100000):\n",
    "    forward_output = forward_nn()\n",
    "    forward_output.gradient = -2 * (y - forward_output.value)\n",
    "    backward_nn()\n",
    "    w1.value -= alpha * w1.gradient\n",
    "    w2.value -= alpha * w2.gradient\n",
    "    b.value -= alpha * b.gradient\n",
    "    \n",
    "forward_output.value"
   ]
  },
  {
   "cell_type": "markdown",
   "metadata": {},
   "source": [
    "---\n",
    "# Putting it all together into a single Perceptron"
   ]
  },
  {
   "cell_type": "code",
   "execution_count": 10,
   "metadata": {
    "collapsed": true
   },
   "outputs": [],
   "source": [
    "class Perceptron(object):\n",
    "    def __init__(self, x1, x2, alpha=0.001):\n",
    "        ### Hyper parameters\n",
    "        self.alpha = alpha\n",
    "        ### Initializing weights/bias to a random float between -1 and 1.\n",
    "        self.w1 = Node(np.random.uniform(-1, 1), 0.0)\n",
    "        self.w2 = Node(np.random.uniform(-1, 1), 0.0)\n",
    "        self.b = Node(np.random.uniform(-1, 1), 0.0)\n",
    "        ### Input and Output variables\n",
    "        self.x1 = Node(x1, 0.0)\n",
    "        self.x2 = Node(x2, 0.0)\n",
    "        ### Initialize operators nodes required \n",
    "        ### for processing the inputs within a perceptron\n",
    "        self.initialize_operators()\n",
    "    \n",
    "    def initialize_operators(self):\n",
    "        self.w1_mul_x1 = MultiplyNode()\n",
    "        self.w2_mul_x2 = MultiplyNode()\n",
    "        self.w1x1_add_w2x2 = AddNode()\n",
    "        self.w1x1_w2x2_add_b = AddNode()\n",
    "        self.sigmoid = SigmoidNode()\n",
    "    \n",
    "    def forward(self):\n",
    "        w1x1 = self.w1_mul_x1.forward(self.w1, self.x1)\n",
    "        w2x2 = self.w2_mul_x2.forward(self.w2, self.x2)\n",
    "        w1x1_w2x2 = self.w1x1_add_w2x2.forward(w1x1, w2x2)\n",
    "        w1x1_w2x2_b = self.w1x1_w2x2_add_b.forward(w1x1_w2x2, self.b)\n",
    "        self.sigmoid.forward(w1x1_w2x2_b)\n",
    "        \n",
    "    def backward(self):\n",
    "        self.sigmoid.backward()\n",
    "        self.w1x1_w2x2_add_b.backward()\n",
    "        self.w1x1_add_w2x2.backward()\n",
    "        self.w2_mul_x2.backward()\n",
    "        self.w1_mul_x1.backward()\n",
    "    \n",
    "    def update(self):\n",
    "        self.w1.value -= self.alpha * self.w1.gradient\n",
    "        self.w2.value -= self.alpha * self.w2.gradient\n",
    "        self.b.value -= self.alpha * self.b.gradient"
   ]
  },
  {
   "cell_type": "markdown",
   "metadata": {},
   "source": [
    "### Validation"
   ]
  },
  {
   "cell_type": "code",
   "execution_count": 11,
   "metadata": {},
   "outputs": [
    {
     "data": {
      "text/plain": [
       "0.34819726398170059"
      ]
     },
     "execution_count": 11,
     "metadata": {},
     "output_type": "execute_result"
    }
   ],
   "source": [
    "p = Perceptron(0.11, -1.0, alpha=0.1)\n",
    "# number of iterations\n",
    "N = 100000\n",
    "# expected output \n",
    "target = 0.3481972639817\n",
    "\n",
    "for i in range(N):\n",
    "    # Step 1. Forward Pass\n",
    "    p.forward()\n",
    "    # Step 2. Calculate Loss. -2 * (y - output) is the gradient of output w.r.t \n",
    "    # square loss function.\n",
    "    p.sigmoid.output.gradient = -2 * (target - p.sigmoid.output.value)\n",
    "    # Step 3. Backward Pass\n",
    "    p.backward()\n",
    "    # Step 4. Update Weights and Bias\n",
    "    p.update()\n",
    "\n",
    "p.sigmoid.output.value"
   ]
  },
  {
   "cell_type": "markdown",
   "metadata": {},
   "source": [
    "---\n",
    "\n",
    "# Assignment 3\n",
    "\n",
    "```\n",
    "X1 ------\\\n",
    "          \\\n",
    "          (P) ---- (P) ---- (T)\n",
    "          /\n",
    "X2 ------/\n",
    "         \n",
    "```\n",
    "\n",
    "1. Create a two layer neural network with one perceptron in each layer (see Diagram above). Write a validation code that does along with your implementation. The goal of network is to optimize the two perceptrons to produce the output target `T` given the inputs `X1` and `X2`. Assume the output `O` of each perceptron is\n",
    "\n",
    "$$ O = \\sigma{(w1*x1 + w2*x2 + b)} $$ where\n",
    "\n",
    "$$\\sigma(x) = \\frac{1}{1+e^{-x}}$$\n",
    "\n",
    "Feel free to change the loss function if you like.\n",
    "\n"
   ]
  },
  {
   "cell_type": "code",
   "execution_count": 34,
   "metadata": {
    "collapsed": true
   },
   "outputs": [],
   "source": [
    "class Perceptron2(object):\n",
    "    def __init__(self, x1, x2, alpha=0.001):\n",
    "        ### Hyper parameters\n",
    "        self.alpha = alpha\n",
    "        ### Initializing weights/bias to a random float between -1 and 1.\n",
    "        self.w1 = Node(np.random.uniform(-1, 1), 0.0)\n",
    "        self.b = Node(np.random.uniform(-1, 1), 0.0)\n",
    "        ### Input and Output variables\n",
    "        self.x1 = Perceptron(x1, x2, alpha=alpha)\n",
    "        ### Initialize operators nodes required \n",
    "        ### for processing the inputs within a perceptron\n",
    "        self.initialize_operators()\n",
    "    \n",
    "    def initialize_operators(self):\n",
    "        self.w1_mul_x1 = MultiplyNode()\n",
    "        self.w1x1_add_b = AddNode()\n",
    "        self.sigmoid = SigmoidNode()\n",
    "    \n",
    "    def forward(self):\n",
    "        self.x1.forward()\n",
    "        #print(self.x1.sigmoid)\n",
    "        #print(self.x1.sigmoid.output.value)\n",
    "        w1x1 = self.w1_mul_x1.forward(self.w1, self.x1.sigmoid.output)\n",
    "\n",
    "        w1x1_b = self.w1x1_add_b.forward(w1x1, self.b)\n",
    "        self.sigmoid.forward(w1x1_b)\n",
    "        \n",
    "    def backward(self):\n",
    "        self.sigmoid.backward()\n",
    "        self.w1x1_add_b.backward()\n",
    "        self.w1_mul_x1.backward()\n",
    "        self.x1.backward()\n",
    "    \n",
    "    def update(self):\n",
    "        self.w1.value -= self.alpha * self.w1.gradient\n",
    "        self.b.value -= self.alpha * self.b.gradient\n",
    "        self.x1.update()"
   ]
  },
  {
   "cell_type": "code",
   "execution_count": 35,
   "metadata": {},
   "outputs": [
    {
     "data": {
      "text/plain": [
       "0.3481972639817002"
      ]
     },
     "execution_count": 35,
     "metadata": {},
     "output_type": "execute_result"
    }
   ],
   "source": [
    "#p = Perceptron(0.11, -1.0, alpha=0.1)\n",
    "p2 = Perceptron2(0.11, -1.0, alpha=0.1)\n",
    "# number of iterations\n",
    "N = 100000\n",
    "# expected output \n",
    "target = 0.3481972639817\n",
    "\n",
    "for i in range(N):\n",
    "    # Step 1. Forward Pass\n",
    "    #p.forward()\n",
    "    # Step 2. Calculate Loss. -2 * (y - output) is the gradient of output w.r.t \n",
    "    # square loss function.\n",
    "    p2.forward()\n",
    "    p2.sigmoid.output.gradient = -2 * (target - p2.sigmoid.output.value)\n",
    "    #p.sigmoid.output.gradient = -2 * (target - p.sigmoid.output.value)\n",
    "    p2.backward()\n",
    "    # Step 3. Backward Pass\n",
    "    #p.backward()\n",
    "    # Step 4. Update Weights and Bias\n",
    "    p2.update()\n",
    "    #p.update()\n",
    "\n",
    "p2.sigmoid.output.value"
   ]
  },
  {
   "cell_type": "code",
   "execution_count": null,
   "metadata": {
    "collapsed": true
   },
   "outputs": [],
   "source": []
  }
 ],
 "metadata": {
  "kernelspec": {
   "display_name": "Python 3",
   "language": "python",
   "name": "python3"
  },
  "language_info": {
   "codemirror_mode": {
    "name": "ipython",
    "version": 3
   },
   "file_extension": ".py",
   "mimetype": "text/x-python",
   "name": "python",
   "nbconvert_exporter": "python",
   "pygments_lexer": "ipython3",
   "version": "3.6.1"
  }
 },
 "nbformat": 4,
 "nbformat_minor": 2
}
