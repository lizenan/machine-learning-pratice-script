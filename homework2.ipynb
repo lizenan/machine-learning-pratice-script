{
 "cells": [
  {
   "cell_type": "code",
   "execution_count": 22,
   "metadata": {},
   "outputs": [
    {
     "ename": "SyntaxError",
     "evalue": "unexpected character after line continuation character (<ipython-input-22-48ef349f3a83>, line 2)",
     "output_type": "error",
     "traceback": [
      "\u001b[1;36m  File \u001b[1;32m\"<ipython-input-22-48ef349f3a83>\"\u001b[1;36m, line \u001b[1;32m2\u001b[0m\n\u001b[1;33m    W1----             dM/dX    \\\u001b[0m\n\u001b[1;37m                                  ^\u001b[0m\n\u001b[1;31mSyntaxError\u001b[0m\u001b[1;31m:\u001b[0m unexpected character after line continuation character\n"
     ]
    }
   ],
   "source": [
    " dM/dW1\n",
    "W1----\\\n",
    "       \\\n",
    "        \\\n",
    "dM/dX    \\ \n",
    "X --------(*)\n",
    "           \\    df/dQ\n",
    "            M\n",
    "             \\\n",
    "             (*)---\\\n",
    "             /      \\\n",
    "            N        Q\n",
    "  dN/dY    /          \\\n",
    "Y --------(*)          \\\n",
    "  dN/dW2  /            (+)--- f(x, y, z)\n",
    "W2-------/       df/dp  /   df/df\n",
    " dp/dZ                 P\n",
    "Z --------------------/\n",
    " dP/dW3              /\n",
    "W3------------------/\n",
    "f(x, y, z) = W1X*W2Y+W3Z\n",
    "given M = W1*X\n",
    "      N = W2*Y\n",
    "      P = W3*Z\n",
    "      Q = M*N = W1X*W2Y\n",
    "      f = Q+P = W1X*W2Y+W3Z\n",
    "df/dQ = df/df * df/dQ\n",
    "df/dP = df/df * df/dP\n",
    "df/dM = df/dQ * dQ/dM\n",
    "df/dN = df/dQ * dQ/dN\n",
    "df/dX = df/dQ * dQ/dM * dM/dX\n",
    "df/dW1 = df/dQ * dQ/dM * dM/dW1\n",
    "df/dY = df/dQ * dQ/dN * dN/dY \n",
    "df/dW2 = df/dQ * dQ/dN * dN/dW2 \n",
    "df/dZ = df/dP * dP/dZ\n",
    "df/dW3 = df/dP * dP/dW3\n",
    "\n",
    "df/dQ = 1\n",
    "df/dP = 1\n",
    "dQ/dM = N\n",
    "dQ/dN = M\n",
    "dP/dZ = W3\n",
    "dP/dW3 = Z\n",
    "dM/dX = W1\n",
    "dM/dW1 = X\n",
    "dN/dY = W2\n",
    "dN/dW2 = Y\n",
    "\n",
    "\n",
    "df/dM = df/dQ * dQ/dM = 1 * N\n",
    "df/dN = df/dQ * dQ/dN = 1 * M\n",
    "df/dW1 = df/dQ * dQ/dM * dM/dW1 = 1 * N * X = 1 * W2 * Y * X\n",
    "df/dW2 = df/dQ * dQ/dN * dN/dW2 = 1 * M * Y = 1 * W1 * X * Y\n",
    "df/dW3 = df/dP * dP/dW3 = 1 * Z\n"
   ]
  },
  {
   "cell_type": "code",
   "execution_count": 12,
   "metadata": {},
   "outputs": [
    {
     "name": "stdout",
     "output_type": "stream",
     "text": [
      "Gradients on X: 36, Y: 24 and Z: 7\n"
     ]
    }
   ],
   "source": [
    "def forward(w1,w2,w3,x, y, z):\n",
    "    return (w3 * z)+((w1 * x) * (y * w2))\n",
    "\n",
    "def backward(w1, w2, w3, x, y, z):\n",
    "    dfdw1 = 1 * w2 * y * x\n",
    "    dfdw2 = 1 * w1 * x * y\n",
    "    dfdw3 = z\n",
    "    return dfdw1, dfdw2, dfdw3\n",
    "\n",
    "x = 3\n",
    "y = 4\n",
    "z = 7\n",
    "w1 = 2\n",
    "w2 = 3\n",
    "w3 = 4\n",
    "dx, dy, dz = backward(w1, w2, w3, x, y, z)\n",
    "print (\"Gradients on X: {}, Y: {} and Z: {}\".format(dx, dy, dz))"
   ]
  },
  {
   "cell_type": "code",
   "execution_count": 23,
   "metadata": {},
   "outputs": [
    {
     "ename": "SyntaxError",
     "evalue": "unexpected character after line continuation character (<ipython-input-23-c07656addc33>, line 2)",
     "output_type": "error",
     "traceback": [
      "\u001b[1;36m  File \u001b[1;32m\"<ipython-input-23-c07656addc33>\"\u001b[1;36m, line \u001b[1;32m2\u001b[0m\n\u001b[1;33m    W1----               dM/dX    \\\u001b[0m\n\u001b[1;37m                                    ^\u001b[0m\n\u001b[1;31mSyntaxError\u001b[0m\u001b[1;31m:\u001b[0m unexpected character after line continuation character\n"
     ]
    }
   ],
   "source": [
    "dM/dW1\n",
    "W1----\\\n",
    "       \\\n",
    "        \\\n",
    "dM/dX    \\ \n",
    "X --------(*)\n",
    "           \\    df/dQ\n",
    "            M\n",
    "             \\\n",
    "             (*)---\\\n",
    "             /      \\\n",
    "            N        Q\n",
    "  dN/dY    /          \\\n",
    "Y --------(*)          \\\n",
    "  dN/dW2  /            (+)--- f(x, y, z)---Loss\n",
    "W2-------/       df/dp  /   dL/df          dL/dL\n",
    " dp/dZ                 P\n",
    "Z --------------------/\n",
    " dP/dW3              /\n",
    "W3------------------/\n",
    "\n",
    "L = (V - f(x,y,z))^2\n",
    "dL/dW1 = dL/df * df/dW1\n",
    "dL/dW2 = dL/df * df/dW2\n",
    "dL/dW3 = dL/df * df/dW3\n",
    "\n",
    "dL/dW1 = -2(V-f)*1 * W2 * Y * X \n",
    "dL/dW2 = -2(V-f)*1 * W1 * X * Y \n",
    "dL/dW3 = -2(V-f)*1 * Z"
   ]
  },
  {
   "cell_type": "code",
   "execution_count": 19,
   "metadata": {},
   "outputs": [
    {
     "name": "stdout",
     "output_type": "stream",
     "text": [
      "Final Values of w1: 2.0180536822019226, w2: 3.012064470938623 and w3: 4.000328239793059\n",
      "Evaluation of (w1x * w2y) + w3z = 143.9999999999998\n"
     ]
    }
   ],
   "source": [
    "def backward_w_loss(V, x, y, z, w1, w2, w3):\n",
    "    dldw1 = -2 * (V - (((w1 * x) * (w2 * y)) + (w3 * z))) * 1 * w2 * y * x\n",
    "    dldw2 = -2 * (V - (((w1 * x) * (w2 * y)) + (w3 * z))) * 1 * w1 * y * x\n",
    "    dldw3 = -2 * (V - (((w1 * x) * (w2 * y)) + (w3 * z)))\n",
    "    return dldw1, dldw2, dldw3\n",
    "                 \n",
    "x = 12.3791\n",
    "y = 1.4782\n",
    "z = 8.192\n",
    "w1 = 2\n",
    "w2 = 3\n",
    "w3 = 4\n",
    "alpha = 0.00001\n",
    "final_value = 144\n",
    "n = 1000\n",
    "for i in range(n):\n",
    "    dw1, dw2, dw3 = backward_w_loss(final_value, x, y, z , w1, w2, w3)\n",
    "    w1 = w1 - alpha * dw1\n",
    "    w2 = w2 - alpha * dw2\n",
    "    w3 = w3 - alpha * dw3\n",
    "    #print(forward(w1, w2, w3, x, y, z) )\n",
    "print (\"Final Values of w1: {}, w2: {} and w3: {}\".format(w1, w2, w3))\n",
    "# forward is only used here below\n",
    "print (\"Evaluation of (w1x * w2y) + w3z = {}\".format(forward(w1, w2, w3, x, y, z)))"
   ]
  },
  {
   "cell_type": "code",
   "execution_count": 21,
   "metadata": {},
   "outputs": [
    {
     "name": "stdout",
     "output_type": "stream",
     "text": [
      "Final Values of w1: 11.75044564163599, w2: 11.958142348609236 and w3: 4.7793149347672585\n",
      "Evaluation of (w1x * w2y) + w3z = 887.9999999999982\n"
     ]
    }
   ],
   "source": [
    "x = 1\n",
    "y = 2\n",
    "z = 127\n",
    "alpha = 0.00001\n",
    "final_value = 888\n",
    "n = 100000\n",
    "for i in range(n):\n",
    "    dw1, dw2, dw3 = backward_w_loss(final_value, x, y, z , w1, w2, w3)\n",
    "    w1 = w1 - alpha * dw1\n",
    "    w2 = w2 - alpha * dw2\n",
    "    w3 = w3 - alpha * dw3\n",
    "    #print(forward(w1, w2, w3, x, y, z) )\n",
    "print (\"Final Values of w1: {}, w2: {} and w3: {}\".format(w1, w2, w3))\n",
    "# forward is only used here below\n",
    "print (\"Evaluation of (w1x * w2y) + w3z = {}\".format(forward(w1, w2, w3, x, y, z)))"
   ]
  },
  {
   "cell_type": "code",
   "execution_count": null,
   "metadata": {
    "collapsed": true
   },
   "outputs": [],
   "source": []
  }
 ],
 "metadata": {
  "kernelspec": {
   "display_name": "Python 3",
   "language": "python",
   "name": "python3"
  },
  "language_info": {
   "codemirror_mode": {
    "name": "ipython",
    "version": 3
   },
   "file_extension": ".py",
   "mimetype": "text/x-python",
   "name": "python",
   "nbconvert_exporter": "python",
   "pygments_lexer": "ipython3",
   "version": "3.6.1"
  }
 },
 "nbformat": 4,
 "nbformat_minor": 2
}
