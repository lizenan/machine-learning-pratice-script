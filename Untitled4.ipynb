{
 "cells": [
  {
   "cell_type": "code",
   "execution_count": 3,
   "metadata": {
    "collapsed": true
   },
   "outputs": [],
   "source": [
    "import tensorflow as tf\n",
    "import numpy as np\n",
    "X_batch = np.array([[[0,1,2],[9,8,7]],[[3,4,5],[0,0,0]],[[6,7,8],[6,5,4]],[[9,0,1],[3,2,1]]])"
   ]
  },
  {
   "cell_type": "code",
   "execution_count": 2,
   "metadata": {},
   "outputs": [
    {
     "data": {
      "text/plain": [
       "array([[[0, 1, 2],\n",
       "        [9, 8, 7]],\n",
       "\n",
       "       [[3, 4, 5],\n",
       "        [0, 0, 0]],\n",
       "\n",
       "       [[6, 7, 8],\n",
       "        [6, 5, 4]],\n",
       "\n",
       "       [[9, 0, 1],\n",
       "        [3, 2, 1]]])"
      ]
     },
     "execution_count": 2,
     "metadata": {},
     "output_type": "execute_result"
    }
   ],
   "source": [
    "X_batch"
   ]
  },
  {
   "cell_type": "code",
   "execution_count": 3,
   "metadata": {
    "collapsed": true
   },
   "outputs": [],
   "source": [
    "X_seqs = tf.unstack(tf.transpose(X_batch, perm=[1, 0, 2]))"
   ]
  },
  {
   "cell_type": "code",
   "execution_count": 4,
   "metadata": {},
   "outputs": [
    {
     "data": {
      "text/plain": [
       "[<tf.Tensor 'unstack:0' shape=(4, 3) dtype=int32>,\n",
       " <tf.Tensor 'unstack:1' shape=(4, 3) dtype=int32>]"
      ]
     },
     "execution_count": 4,
     "metadata": {},
     "output_type": "execute_result"
    }
   ],
   "source": [
    "X_seqs"
   ]
  },
  {
   "cell_type": "code",
   "execution_count": 5,
   "metadata": {},
   "outputs": [
    {
     "data": {
      "text/plain": [
       "<tf.Tensor 'transpose_1:0' shape=(2, 4, 3) dtype=int32>"
      ]
     },
     "execution_count": 5,
     "metadata": {},
     "output_type": "execute_result"
    }
   ],
   "source": [
    "tf.transpose(X_batch, perm=[1, 0, 2])"
   ]
  },
  {
   "cell_type": "code",
   "execution_count": 8,
   "metadata": {},
   "outputs": [
    {
     "data": {
      "text/plain": [
       "[array([[0, 1, 2],\n",
       "        [3, 4, 5],\n",
       "        [6, 7, 8],\n",
       "        [9, 0, 1]]), array([[9, 8, 7],\n",
       "        [0, 0, 0],\n",
       "        [6, 5, 4],\n",
       "        [3, 2, 1]])]"
      ]
     },
     "execution_count": 8,
     "metadata": {},
     "output_type": "execute_result"
    }
   ],
   "source": [
    "sess = tf.Session()\n",
    "sess.run(X_seqs)"
   ]
  },
  {
   "cell_type": "code",
   "execution_count": 9,
   "metadata": {},
   "outputs": [
    {
     "data": {
      "text/plain": [
       "array([[[0, 1, 2],\n",
       "        [3, 4, 5],\n",
       "        [6, 7, 8],\n",
       "        [9, 0, 1]],\n",
       "\n",
       "       [[9, 8, 7],\n",
       "        [0, 0, 0],\n",
       "        [6, 5, 4],\n",
       "        [3, 2, 1]]])"
      ]
     },
     "execution_count": 9,
     "metadata": {},
     "output_type": "execute_result"
    }
   ],
   "source": [
    "sess.run(tf.transpose(X_batch, perm=[1, 0, 2]))"
   ]
  },
  {
   "cell_type": "code",
   "execution_count": 1,
   "metadata": {
    "collapsed": true
   },
   "outputs": [],
   "source": [
    "t_min, t_max = 0, 30\n",
    "resolution = 0.1\n",
    "\n",
    "def time_series(t):\n",
    "    return t * np.sin(t) / 3 + 2 * np.sin(t*5)\n",
    "\n",
    "def next_batch(batch_size, n_steps):\n",
    "    t0 = np.random.rand(batch_size, 1) * (t_max - t_min - n_steps * resolution)\n",
    "    Ts = t0 + np.arange(0., n_steps + 1) * resolution\n",
    "    ys = time_series(Ts)\n",
    "    return ys[:, :-1].reshape(-1, n_steps, 1), ys[:, 1:].reshape(-1, n_steps, 1)"
   ]
  },
  {
   "cell_type": "code",
   "execution_count": 7,
   "metadata": {},
   "outputs": [
    {
     "data": {
      "image/png": "[encoded data removed]",
      "text/plain": [
       "<matplotlib.figure.Figure at 0x15f8a400>"
      ]
     },
     "metadata": {},
     "output_type": "display_data"
    }
   ],
   "source": [
    "import matplotlib.pyplot as plt\n",
    "t = np.linspace(t_min, t_max, int((t_max - t_min) / resolution))\n",
    "\n",
    "n_steps = 20\n",
    "t_instance = np.linspace(12.2, 12.2 + resolution * (n_steps + 1), n_steps + 1)\n",
    "\n",
    "plt.figure(figsize=(11,4))\n",
    "#plt.subplot(121)\n",
    "plt.title(\"A time series (generated)\", fontsize=14)\n",
    "plt.plot(t, time_series(t), label=r\"$t . \\sin(t) / 3 + 2 . \\sin(5t)$\")\n",
    "#plt.plot(t_instance[:-1], time_series(t_instance[:-1]), \"b-\", linewidth=3, label=\"A training instance\")\n",
    "plt.legend(loc=\"lower left\", fontsize=14)\n",
    "plt.axis([0, 30, -17, 13])\n",
    "plt.xlabel(\"Time\")\n",
    "plt.ylabel(\"Value\")\n",
    "\n",
    "plt.show()"
   ]
  },
  {
   "cell_type": "code",
   "execution_count": 9,
   "metadata": {},
   "outputs": [
    {
     "data": {
      "image/png": "[encoded data removed]",
      "text/plain": [
       "<matplotlib.figure.Figure at 0x15f00588>"
      ]
     },
     "metadata": {},
     "output_type": "display_data"
    }
   ],
   "source": [
    "#plt.subplot(122)\n",
    "plt.title(\"A training instance\", fontsize=14)\n",
    "plt.plot(t_instance[:-1], time_series(t_instance[:-1]), \"bo\", markersize=10, label=\"instance\")\n",
    "plt.plot(t_instance[1:], time_series(t_instance[1:]), \"w*\", markersize=10, label=\"target\")\n",
    "plt.legend(loc=\"upper left\")\n",
    "plt.xlabel(\"Time\")\n",
    "\n",
    "plt.show()"
   ]
  },
  {
   "cell_type": "code",
   "execution_count": 24,
   "metadata": {},
   "outputs": [
    {
     "data": {
      "text/plain": [
       "(array([[  1.24648690e-01,   1.05987981e-01,   1.96021143e-03,\n",
       "           2.46045887e-01,   1.05685815e-01,   3.68887968e-02,\n",
       "          -3.03862095e-01,  -1.82657093e-01,  -1.00279249e-01,\n",
       "           2.19954133e-01,  -3.48232239e-02,   9.52050760e-02,\n",
       "          -4.59663242e-01,  -6.09448664e-02,  -8.90062600e-02,\n",
       "          -3.62104212e-04,  -2.96376855e-03,  -1.39360920e-01,\n",
       "          -3.40298973e-02,   1.24554992e-01,  -2.86864430e-01,\n",
       "          -5.18845506e-02,  -1.05172284e-01,   1.26155958e-01,\n",
       "           1.53950885e-01,   3.77564907e-01,   1.23479784e-01,\n",
       "           3.69006693e-02,  -1.64873481e-01,   3.18001322e-02,\n",
       "          -1.23873122e-01,  -3.33777368e-02,   1.76126301e-01,\n",
       "           6.19985946e-02,  -2.32600525e-01,  -3.42697769e-01,\n",
       "          -8.20314735e-02,  -9.80939716e-02,   2.15671197e-01,\n",
       "           3.49626154e-01,  -7.99296498e-02,  -2.24437431e-01,\n",
       "           1.00799903e-01,  -2.11562961e-01,  -4.77398792e-03,\n",
       "           2.78797001e-01,   2.65139658e-02,  -1.81289703e-01,\n",
       "           2.15746671e-01,  -4.11716253e-02,  -5.89092411e-02,\n",
       "           1.71711013e-01,  -5.68858720e-02,  -1.58408657e-01,\n",
       "          -1.51605876e-02,  -1.25658840e-01,  -1.26560077e-01,\n",
       "           6.14327230e-02,   8.30943212e-02,   2.24520504e-01,\n",
       "           1.33459419e-01,  -1.84785333e-02,  -8.95180460e-03,\n",
       "           1.42884657e-01,  -3.66064943e-02,   1.09677866e-01,\n",
       "           3.67681012e-02,   1.42590776e-01,  -1.88777164e-01,\n",
       "          -3.67393821e-01,  -2.28617787e-02,   8.04842785e-02,\n",
       "           1.83517843e-01,   5.72731458e-02,   9.04520079e-02,\n",
       "          -4.84251231e-02,   3.96671563e-01,   2.07522929e-01,\n",
       "          -3.45850624e-02,   1.07055925e-01,   3.06423187e-01,\n",
       "           7.87644833e-02,  -1.83710530e-01,   3.53698805e-02,\n",
       "          -1.53856119e-02,  -4.64963987e-02,  -2.13299006e-01,\n",
       "          -6.75510764e-02,  -6.81747124e-02,  -2.17403218e-01,\n",
       "           1.39654219e-01,   1.48116395e-01,  -2.96934128e-01,\n",
       "          -2.51714498e-01,  -1.85304523e-01,   1.41332611e-01,\n",
       "          -7.31884986e-02,  -1.93269163e-01,  -3.70698214e-01,\n",
       "          -8.40829406e-03],\n",
       "        [  7.69114941e-02,   1.13842651e-01,  -5.34961652e-03,\n",
       "           1.60920605e-01,   1.16070278e-01,   4.10704687e-02,\n",
       "          -2.06172287e-01,  -2.03931816e-02,  -1.54753983e-01,\n",
       "           1.94580480e-01,   2.44348347e-02,   7.71537870e-02,\n",
       "          -3.72920424e-01,  -3.85586843e-02,   1.74743109e-04,\n",
       "           1.72902327e-02,  -1.70110762e-01,  -8.98094252e-02,\n",
       "          -3.71887088e-02,   1.05770424e-01,  -3.26133430e-01,\n",
       "          -8.98997933e-02,  -1.58159152e-01,   1.47363022e-01,\n",
       "           1.08395293e-01,   2.97621161e-01,   5.82043044e-02,\n",
       "           5.77059500e-02,  -9.86673236e-02,  -4.68621068e-02,\n",
       "          -5.24713509e-02,   1.30308950e-02,   1.31110042e-01,\n",
       "           1.24071456e-01,  -1.62744656e-01,  -2.76152939e-01,\n",
       "          -8.37900788e-02,  -2.58984193e-02,   1.76944375e-01,\n",
       "           3.11427563e-01,  -8.00812319e-02,  -1.70059159e-01,\n",
       "           1.13044888e-01,  -1.92705348e-01,   7.95519724e-02,\n",
       "           2.48134688e-01,   5.62136211e-02,  -8.62605646e-02,\n",
       "           1.66279316e-01,  -1.02415353e-01,  -6.96286932e-02,\n",
       "           4.13330644e-02,  -1.37613848e-01,  -1.27274513e-01,\n",
       "           2.66372543e-02,  -9.70415175e-02,  -8.00580606e-02,\n",
       "          -5.69074675e-02,   4.85366136e-02,   1.47113830e-01,\n",
       "           1.21817835e-01,  -7.19725192e-02,   1.23615423e-02,\n",
       "           3.90196964e-02,  -3.19050788e-03,   7.62110278e-02,\n",
       "           1.21524204e-02,   1.30683780e-01,  -9.86824483e-02,\n",
       "          -1.54194906e-01,  -8.29151049e-02,   1.11428276e-01,\n",
       "           1.44161820e-01,   6.37151748e-02,   1.12039400e-02,\n",
       "           1.00987917e-02,   3.27936083e-01,   2.54592240e-01,\n",
       "          -6.70875162e-02,  -2.06476189e-02,   2.39571720e-01,\n",
       "           1.86889976e-01,  -4.65143546e-02,   9.45458338e-02,\n",
       "           1.33382306e-02,  -1.01083286e-01,  -2.46095955e-01,\n",
       "          -1.80557445e-01,  -1.02235265e-01,  -1.91961005e-01,\n",
       "           2.29858570e-02,   1.45187721e-01,  -1.82067022e-01,\n",
       "          -9.05760527e-02,  -5.53765483e-02,   1.02247782e-01,\n",
       "          -2.04397235e-02,  -1.47472918e-01,  -3.52586091e-01,\n",
       "           1.13376637e-03]], dtype=float32),\n",
       " array([[ 0.38506663,  0.0140454 , -0.00395023,  0.09805612, -0.27786168,\n",
       "          0.04550086, -0.08026252, -0.21525101, -0.10863271, -0.10178417,\n",
       "          0.21170121, -0.2733444 ,  0.27275237,  0.10395572, -0.04178735,\n",
       "         -0.27397454,  0.318284  , -0.1111431 , -0.16757648, -0.03129992,\n",
       "         -0.11629741,  0.08885248, -0.08289108, -0.31724793,  0.00989337,\n",
       "          0.20284496, -0.05587201,  0.23845738, -0.03509839,  0.22716001,\n",
       "          0.05388597,  0.067785  , -0.12263538, -0.28842348, -0.0659145 ,\n",
       "          0.02683544, -0.39393425, -0.0365977 , -0.18580104, -0.00137109,\n",
       "         -0.22410354,  0.23613168,  0.09997373,  0.06836396, -0.03869145,\n",
       "         -0.16209054,  0.22315361,  0.13144869,  0.20520942, -0.2286085 ,\n",
       "          0.06883985,  0.21708621,  0.32707679,  0.21906723, -0.23520945,\n",
       "          0.06342261,  0.19359104, -0.14542198, -0.0567718 , -0.05821783,\n",
       "         -0.10685703,  0.17610021,  0.0674777 ,  0.2621572 ,  0.07814898,\n",
       "         -0.0149301 ,  0.12717579,  0.11085263, -0.20282775, -0.12028148,\n",
       "          0.14232843, -0.10417975, -0.11273624, -0.0964833 ,  0.08746038,\n",
       "          0.12665999,  0.26342198,  0.39930704, -0.03720637,  0.15958308,\n",
       "         -0.06897156,  0.12648867,  0.2218283 , -0.34571654,  0.0214648 ,\n",
       "         -0.15146619,  0.28452426, -0.02369919, -0.38813964, -0.16924003,\n",
       "          0.28410172,  0.13912286, -0.19109592,  0.05214142,  0.00216137,\n",
       "          0.13627258, -0.07451329, -0.32098511, -0.11290254,  0.08903966],\n",
       "        [ 0.17594799,  0.05590082,  0.07188099,  0.11658503, -0.26223868,\n",
       "          0.05748449, -0.05210059, -0.1790251 , -0.16283615, -0.11205352,\n",
       "          0.17399995, -0.25270805,  0.15985569,  0.02295808, -0.02069198,\n",
       "         -0.14611684,  0.17031649, -0.10009767, -0.19243576, -0.07430739,\n",
       "          0.02683886,  0.04318402, -0.10928204, -0.28691232,  0.01055015,\n",
       "          0.18285666,  0.04956205,  0.06822756,  0.03081469,  0.26884782,\n",
       "          0.0456928 , -0.00960854, -0.15399556, -0.23730506, -0.14654829,\n",
       "          0.0638002 , -0.28308493,  0.03068026, -0.15130222,  0.14941683,\n",
       "         -0.27113611,  0.25315759,  0.09345747, -0.04157496, -0.08715025,\n",
       "         -0.10329142,  0.16975644,  0.10434188,  0.117831  , -0.07749493,\n",
       "          0.17685422,  0.21674228,  0.26010206,  0.18227142, -0.1489979 ,\n",
       "          0.14115983,  0.20925923, -0.18488175, -0.23579471, -0.05856249,\n",
       "         -0.07843028,  0.13193768,  0.00484761,  0.26681304,  0.02509542,\n",
       "         -0.00697225,  0.19776486,  0.19369709, -0.25272471, -0.09098104,\n",
       "          0.10381002,  0.00333961, -0.19331428, -0.04654114,  0.13242637,\n",
       "          0.06164519,  0.1633977 ,  0.25608972, -0.10896733,  0.04238579,\n",
       "         -0.10070226,  0.14395902,  0.08840641, -0.34128609, -0.01500182,\n",
       "         -0.15052059,  0.29431003,  0.18779548, -0.32752183, -0.13744855,\n",
       "          0.24464121,  0.0387488 , -0.13002796, -0.00094793, -0.01106356,\n",
       "          0.14918268, -0.09536931, -0.25654465, -0.10793237,  0.08537221]], dtype=float32),\n",
       " array([[-0.14939624, -0.18231183,  0.1044329 ,  0.04391705, -0.06314737,\n",
       "         -0.21987647, -0.08609828,  0.06068607,  0.08566309, -0.09520974,\n",
       "         -0.17949881,  0.05848173, -0.07802379, -0.06636798,  0.06242698,\n",
       "          0.14790468, -0.10904405,  0.13015269,  0.19265962,  0.17131385,\n",
       "         -0.32421136, -0.01796116,  0.16637605,  0.44545245,  0.12417442,\n",
       "         -0.20883377,  0.33790341,  0.07829053, -0.16617775, -0.18872482,\n",
       "          0.10747584, -0.00769656, -0.16136518,  0.22249278, -0.23422536,\n",
       "         -0.35119268,  0.14049987, -0.01330718,  0.42630738, -0.34628773,\n",
       "          0.18351209,  0.07517033, -0.1289344 , -0.22892393,  0.31988665,\n",
       "          0.10761666, -0.2756604 ,  0.23274955,  0.25402024, -0.17847824,\n",
       "         -0.23200208,  0.20665738,  0.24794036, -0.00888521,  0.08035883,\n",
       "         -0.07426716,  0.17729543, -0.10834934,  0.23736535, -0.03319203,\n",
       "          0.18500958, -0.26377434, -0.40426594, -0.47193542, -0.23358369,\n",
       "         -0.2616491 , -0.27254722,  0.20776096, -0.01274306,  0.0390207 ,\n",
       "         -0.01616121, -0.34809268, -0.1388855 , -0.34394354,  0.19175281,\n",
       "          0.24481951,  0.29299021, -0.06473932,  0.06110536, -0.18267246,\n",
       "          0.23645802, -0.04027234, -0.0350156 , -0.11183026, -0.11702694,\n",
       "          0.11034544, -0.18705767, -0.11695056, -0.07041368, -0.15044241,\n",
       "         -0.31595629, -0.37775686,  0.20190449, -0.36895561, -0.1014843 ,\n",
       "          0.35457885, -0.38823432, -0.19319905,  0.03910304,  0.19552943],\n",
       "        [-0.08655304, -0.12568933,  0.14523248,  0.04182618, -0.03867325,\n",
       "         -0.21011698, -0.11408133,  0.15541568,  0.14268552, -0.02148739,\n",
       "         -0.14075111, -0.04822375, -0.2350238 , -0.13682438,  0.02371297,\n",
       "          0.15652606,  0.06248702,  0.12596929,  0.30096859,  0.2170731 ,\n",
       "         -0.39540711,  0.01988315,  0.07756768,  0.31043002,  0.11864379,\n",
       "         -0.13567361,  0.28401613,  0.06087877, -0.07925981, -0.1638311 ,\n",
       "          0.0735927 , -0.03957464, -0.11796919,  0.06809759, -0.18760791,\n",
       "         -0.25090179,  0.10097685, -0.06196669,  0.1964093 , -0.28866771,\n",
       "          0.16406839,  0.12940259, -0.11866162, -0.27399176,  0.25743365,\n",
       "          0.0592907 , -0.10718221,  0.15671213,  0.19650449, -0.19523607,\n",
       "         -0.19572444,  0.20821686,  0.16006459, -0.0055548 , -0.0775921 ,\n",
       "         -0.14060225,  0.07270837, -0.06227497,  0.17398325, -0.02268117,\n",
       "          0.08716039, -0.2744399 , -0.30556872, -0.35275251, -0.18517424,\n",
       "         -0.11684332, -0.23421004,  0.1736263 ,  0.01139481,  0.07198644,\n",
       "         -0.01210604, -0.33909488, -0.209995  , -0.1759952 ,  0.18851881,\n",
       "          0.16036917,  0.14417046, -0.04990579,  0.11188594, -0.27388048,\n",
       "          0.11656855,  0.0028262 , -0.00674479, -0.10594461, -0.09474786,\n",
       "          0.3129707 , -0.21716937, -0.16631506, -0.05834629, -0.22097869,\n",
       "         -0.32504857, -0.32591209,  0.2975643 , -0.19056195, -0.10290234,\n",
       "          0.42419341, -0.33092615, -0.10796151,  0.01317676,  0.25948581]], dtype=float32))"
      ]
     },
     "execution_count": 24,
     "metadata": {},
     "output_type": "execute_result"
    }
   ],
   "source": [
    "def reset_graph(seed=42):\n",
    "    tf.reset_default_graph()\n",
    "    tf.set_random_seed(seed)\n",
    "    np.random.seed(seed)\n",
    "reset_graph()\n",
    "n_inputs = 2\n",
    "n_steps = 5\n",
    "\n",
    "X = tf.placeholder(tf.float32, [None, n_steps, n_inputs])\n",
    "n_neurons = 100\n",
    "n_layers = 3\n",
    "\n",
    "\n",
    "layers = [tf.contrib.rnn.BasicRNNCell(num_units=n_neurons)\n",
    "          for layer in range(n_layers)]\n",
    "multi_layer_cell = tf.contrib.rnn.MultiRNNCell(layers)\n",
    "outputs, states = tf.nn.dynamic_rnn(multi_layer_cell, X, dtype=tf.float32)\n",
    "init = tf.global_variables_initializer()\n",
    "X_batch = np.random.rand(2, n_steps, n_inputs)\n",
    "with tf.Session() as sess:\n",
    "    init.run()\n",
    "    outputs_val, states_val = sess.run([outputs, states], feed_dict={X: X_batch})\n",
    "states_val"
   ]
  },
  {
   "cell_type": "code",
   "execution_count": 21,
   "metadata": {},
   "outputs": [
    {
     "data": {
      "text/plain": [
       "array([[ 0.15327367,  0.07474418,  0.00080847, -0.16948093,  0.02386503,\n",
       "         0.08177609,  0.1937449 , -0.16967839, -0.01136039, -0.29063895,\n",
       "        -0.09158243, -0.14803414, -0.04134819, -0.23682058, -0.44899553,\n",
       "        -0.37769273, -0.03959408,  0.0482357 ,  0.02609376, -0.08973316,\n",
       "        -0.01249797, -0.28031582,  0.13428538,  0.08537479, -0.14718032,\n",
       "         0.02531524,  0.16458435, -0.21369688, -0.04818308, -0.1585439 ,\n",
       "         0.04673045,  0.00175608,  0.26467112,  0.31654337, -0.02429087,\n",
       "         0.14896591, -0.27027646,  0.0633594 , -0.25243637,  0.2443509 ,\n",
       "        -0.13739972, -0.06391001,  0.11882905,  0.15788355,  0.20051305,\n",
       "         0.0559773 ,  0.37493375,  0.28563035, -0.38051856,  0.16688484,\n",
       "        -0.16950394, -0.26046911,  0.0814241 ,  0.09307898, -0.18787587,\n",
       "        -0.03298296, -0.2998794 ,  0.43096927, -0.14636932,  0.02876734,\n",
       "        -0.02635553, -0.15545215,  0.12972017, -0.21263959, -0.16139548,\n",
       "        -0.13184828,  0.16759922,  0.17940095,  0.51527172,  0.13730995,\n",
       "        -0.25995296,  0.11629082, -0.20044386,  0.19100949,  0.11492191,\n",
       "         0.25198451,  0.00062916, -0.05640018,  0.28135449,  0.05290992,\n",
       "        -0.08413116,  0.07803912,  0.23760329,  0.27130729,  0.1841051 ,\n",
       "        -0.03096589, -0.00711796, -0.17014508,  0.15602276,  0.09132351,\n",
       "         0.07179173,  0.23215693, -0.13450105,  0.21440928,  0.20668928,\n",
       "         0.44364697,  0.16591208,  0.0770845 , -0.06205632, -0.0250649 ,\n",
       "        -0.30377668,  0.08111278,  0.16787016,  0.20877315,  0.32898647,\n",
       "        -0.1231621 ,  0.02489559,  0.15029274, -0.15001129,  0.18760136,\n",
       "        -0.04780436, -0.02009247, -0.02322239,  0.17415759, -0.06562176,\n",
       "        -0.10856557, -0.26500383,  0.28074685, -0.0084853 ,  0.22377411,\n",
       "        -0.19950148, -0.02675305, -0.15914971,  0.15657982, -0.14547753,\n",
       "         0.22400323, -0.34380376, -0.20528086, -0.18820402, -0.2177967 ,\n",
       "        -0.0958988 , -0.4027254 ,  0.3730292 ,  0.56422222,  0.25120497,\n",
       "        -0.21912442, -0.4266277 , -0.11670645, -0.14199342,  0.14491503,\n",
       "        -0.18032703, -0.38417625,  0.41876131, -0.07495874, -0.03692744,\n",
       "        -0.12898697, -0.32691544, -0.04028852, -0.09091683, -0.15708005,\n",
       "         0.02078437,  0.28849316,  0.00806272, -0.28477699,  0.00316412,\n",
       "        -0.18834792,  0.04498894, -0.33226785,  0.09003619,  0.16559254,\n",
       "         0.42353639,  0.00697285,  0.3773568 ,  0.16263981, -0.07343973,\n",
       "         0.11954951,  0.01218005,  0.16688292,  0.22815275, -0.0301096 ,\n",
       "         0.01852242, -0.03749509,  0.36102745, -0.070624  , -0.04680666,\n",
       "        -0.01862542, -0.09658591,  0.06947122,  0.28022915,  0.27881962,\n",
       "         0.36338174, -0.28210995, -0.07294349,  0.00762462, -0.00636891,\n",
       "         0.01863668,  0.4058108 , -0.13776319,  0.17322417, -0.15652698,\n",
       "        -0.0342959 , -0.01272586, -0.15050468,  0.23129463,  0.2861138 ,\n",
       "         0.00848056,  0.03619872, -0.07943112,  0.31603095,  0.55343145,\n",
       "        -0.13963291,  0.17339301, -0.02237665,  0.06684075,  0.37197495,\n",
       "        -0.16942821,  0.11587503, -0.0956096 ,  0.13245359,  0.25859252,\n",
       "        -0.03241445,  0.39442292,  0.1476218 , -0.06264985,  0.37815109,\n",
       "         0.02785539,  0.07227143, -0.3076607 ,  0.15520167,  0.05979156,\n",
       "         0.38323683,  0.17015225, -0.14816445, -0.39983705, -0.02332048,\n",
       "         0.24703291, -0.32110822,  0.23600487, -0.00077038,  0.09343353,\n",
       "         0.22645752,  0.22290982,  0.42283401,  0.01883609, -0.07288329,\n",
       "        -0.03766996, -0.05752765, -0.07497505,  0.07975399, -0.14210871,\n",
       "        -0.1988343 ,  0.17180109, -0.00949408,  0.32015991,  0.41945514,\n",
       "         0.50191838,  0.30276597,  0.39712459, -0.07029704, -0.22792111,\n",
       "         0.27783814, -0.16646433,  0.22819874, -0.11578777,  0.04328641,\n",
       "        -0.1674324 ,  0.14149618,  0.02145273, -0.20118983, -0.02038138,\n",
       "         0.31947461,  0.40463194, -0.05822119, -0.62449831, -0.13598387,\n",
       "        -0.35403669, -0.22268003,  0.05044873, -0.20229249, -0.29099029,\n",
       "         0.17617622, -0.11728612,  0.35762021,  0.2625483 ,  0.22572601,\n",
       "         0.31214514, -0.1305386 ,  0.14244182, -0.09949195, -0.11617311,\n",
       "        -0.20555566, -0.10264196, -0.10442101,  0.39214978, -0.01935086,\n",
       "        -0.4201335 ,  0.14878534,  0.27366519,  0.0944396 , -0.3914012 ,\n",
       "        -0.15325053,  0.32554728, -0.0163038 , -0.31309888, -0.20713934,\n",
       "         0.37482178,  0.06930217,  0.00156654,  0.25393093,  0.25833282],\n",
       "       [-0.01466743,  0.17371199, -0.04938788, -0.02442506, -0.04359207,\n",
       "         0.05972372,  0.13747729,  0.00279709, -0.03308258, -0.19470032,\n",
       "        -0.1017949 , -0.0903295 ,  0.02055964, -0.14702494, -0.37012276,\n",
       "        -0.29009053, -0.00583868,  0.04032071, -0.02467506, -0.09084664,\n",
       "         0.03533241, -0.25293353,  0.05045167,  0.09322752, -0.03252069,\n",
       "         0.02079609,  0.08146513, -0.22151439, -0.00138387, -0.112015  ,\n",
       "         0.09602064,  0.00693427,  0.23327546,  0.31493971,  0.10626246,\n",
       "         0.13140567, -0.2318124 ,  0.03086405, -0.11382631,  0.13638403,\n",
       "        -0.04574445,  0.04133642,  0.10119234,  0.24380253,  0.1443305 ,\n",
       "         0.01383007,  0.29956785,  0.14177154, -0.25387922,  0.08310522,\n",
       "        -0.16414784, -0.22697599,  0.04991917, -0.04567853, -0.14601803,\n",
       "        -0.0636784 , -0.2469126 ,  0.34851   , -0.0490552 ,  0.03726357,\n",
       "        -0.05856762, -0.09283665,  0.13013071, -0.14270361, -0.0632624 ,\n",
       "        -0.13838911,  0.16295332,  0.14672993,  0.40340355,  0.11594786,\n",
       "        -0.24486838,  0.10181994, -0.09668667,  0.18532039,  0.11509093,\n",
       "         0.29171908, -0.01512024, -0.06172349,  0.19896309,  0.0369757 ,\n",
       "        -0.01141971,  0.05250184,  0.21671514,  0.26398301,  0.13667578,\n",
       "        -0.01301324,  0.05855509, -0.10125536,  0.15635237,  0.13424952,\n",
       "         0.11719145,  0.15235025, -0.06244524,  0.17897831,  0.14048877,\n",
       "         0.46055079,  0.17890924,  0.0560224 , -0.05780016, -0.10659464,\n",
       "        -0.25103921,  0.06488442,  0.18003933,  0.11903892,  0.24541405,\n",
       "        -0.10039725,  0.03556629,  0.15536372, -0.13282542,  0.12188653,\n",
       "         0.03396935, -0.06750378,  0.10957268,  0.11761351,  0.0103011 ,\n",
       "        -0.00822596, -0.21968424,  0.2018604 , -0.03648901,  0.23038839,\n",
       "        -0.08695251, -0.05028759, -0.19315143,  0.15219747, -0.15036483,\n",
       "         0.20553385, -0.29222137, -0.13585363, -0.18625072, -0.22098166,\n",
       "        -0.08456857, -0.3548702 ,  0.33885202,  0.47920302,  0.22130439,\n",
       "        -0.14494494, -0.46255285, -0.04360598, -0.01877867,  0.15703639,\n",
       "        -0.13784581, -0.30540806,  0.34489828, -0.08623331,  0.07006338,\n",
       "        -0.19575495, -0.24377026, -0.06925973, -0.01271845, -0.07124646,\n",
       "        -0.08148892,  0.28380364,  0.0641128 , -0.27164733,  0.01576248,\n",
       "        -0.2791951 , -0.02730213, -0.34582281,  0.07815892,  0.09132563,\n",
       "         0.29110321, -0.01585415,  0.26672959, -0.00925634, -0.05884257,\n",
       "         0.14917633,  0.04450907,  0.15560709,  0.23745435, -0.00646843,\n",
       "         0.18589921, -0.02175219,  0.31045148, -0.04120689, -0.04494995,\n",
       "        -0.06871261,  0.04612127,  0.12172303,  0.27759904,  0.29135513,\n",
       "         0.35641301, -0.241355  , -0.02259943, -0.01268515, -0.1298838 ,\n",
       "        -0.13052697,  0.39950758, -0.15085416,  0.17853273, -0.20216911,\n",
       "        -0.04618812,  0.03879198, -0.16320923,  0.14653684,  0.20324606,\n",
       "        -0.02408361,  0.03524761, -0.09517928,  0.23448855,  0.42127204,\n",
       "        -0.15434708,  0.07727959,  0.0484696 ,  0.10246872,  0.3520107 ,\n",
       "        -0.13698576,  0.30401656, -0.20488711,  0.1885642 ,  0.2398053 ,\n",
       "        -0.06154081,  0.34596616,  0.08090253, -0.00535898,  0.38306206,\n",
       "         0.03286254,  0.02539558, -0.24665479,  0.170011  , -0.00549801,\n",
       "         0.31835887,  0.1462457 , -0.11081445, -0.38220173,  0.06459072,\n",
       "         0.12371973, -0.28473285,  0.15346834,  0.03575972,  0.15089747,\n",
       "         0.13397731,  0.19478716,  0.39438051, -0.08414496, -0.059228  ,\n",
       "        -0.02721859,  0.04568942, -0.03818626,  0.10525364, -0.21986917,\n",
       "        -0.22120817,  0.1754577 , -0.01348216,  0.2220211 ,  0.37191227,\n",
       "         0.40592089,  0.35007328,  0.41526127, -0.17866708, -0.17002125,\n",
       "         0.24719709, -0.18209875,  0.05662193,  0.0332624 , -0.03843042,\n",
       "        -0.20182924,  0.10813931, -0.07985502, -0.15910874, -0.02938331,\n",
       "         0.39475557,  0.41885793,  0.04958198, -0.52946579, -0.03548478,\n",
       "        -0.39291102, -0.26879734,  0.06824561, -0.12262975, -0.1490535 ,\n",
       "         0.16746379, -0.12118129,  0.39138478,  0.2273996 ,  0.17879608,\n",
       "         0.30825138, -0.16659895,  0.1174725 ,  0.06709997, -0.13604887,\n",
       "        -0.170297  , -0.11598915, -0.02255687,  0.32367289, -0.02156358,\n",
       "        -0.40567571,  0.06390762,  0.24385326,  0.06740551, -0.38784906,\n",
       "        -0.16982278,  0.36164466,  0.04779841, -0.2294572 , -0.27444956,\n",
       "         0.31974342,  0.11106303, -0.01808686,  0.30760664,  0.18437716]], dtype=float32)"
      ]
     },
     "execution_count": 21,
     "metadata": {},
     "output_type": "execute_result"
    }
   ],
   "source": [
    "reset_graph()\n",
    "n_inputs = 2\n",
    "n_steps = 5\n",
    "\n",
    "X = tf.placeholder(tf.float32, [None, n_steps, n_inputs])\n",
    "n_neurons = 100\n",
    "n_layers = 3\n",
    "\n",
    "\n",
    "layers = [tf.contrib.rnn.BasicRNNCell(num_units=n_neurons)\n",
    "          for layer in range(n_layers)]\n",
    "multi_layer_cell = tf.contrib.rnn.MultiRNNCell(layers,state_is_tuple=False)\n",
    "outputs, states = tf.nn.dynamic_rnn(multi_layer_cell, X, dtype=tf.float32)\n",
    "init = tf.global_variables_initializer()\n",
    "X_batch = np.random.rand(2, n_steps, n_inputs)\n",
    "with tf.Session() as sess:\n",
    "    init.run()\n",
    "    outputs_val, states_val = sess.run([outputs, states], feed_dict={X: X_batch})\n",
    "states_val"
   ]
  },
  {
   "cell_type": "code",
   "execution_count": 23,
   "metadata": {},
   "outputs": [
    {
     "data": {
      "text/plain": [
       "(2, 300)"
      ]
     },
     "execution_count": 23,
     "metadata": {},
     "output_type": "execute_result"
    }
   ],
   "source": [
    "states_val.shape"
   ]
  },
  {
   "cell_type": "code",
   "execution_count": 26,
   "metadata": {},
   "outputs": [
    {
     "data": {
      "text/plain": [
       "(2, 100)"
      ]
     },
     "execution_count": 26,
     "metadata": {},
     "output_type": "execute_result"
    }
   ],
   "source": [
    "states_val[0].shape"
   ]
  },
  {
   "cell_type": "code",
   "execution_count": null,
   "metadata": {
    "collapsed": true
   },
   "outputs": [],
   "source": []
  }
 ],
 "metadata": {
  "kernelspec": {
   "display_name": "Python 3",
   "language": "python",
   "name": "python3"
  },
  "language_info": {
   "codemirror_mode": {
    "name": "ipython",
    "version": 3
   },
   "file_extension": ".py",
   "mimetype": "text/x-python",
   "name": "python",
   "nbconvert_exporter": "python",
   "pygments_lexer": "ipython3",
   "version": "3.6.1"
  }
 },
 "nbformat": 4,
 "nbformat_minor": 2
}
